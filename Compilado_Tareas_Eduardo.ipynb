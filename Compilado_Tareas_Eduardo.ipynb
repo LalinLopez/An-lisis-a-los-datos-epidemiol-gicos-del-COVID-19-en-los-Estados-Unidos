{
  "nbformat": 4,
  "nbformat_minor": 0,
  "metadata": {
    "colab": {
      "provenance": []
    },
    "kernelspec": {
      "name": "python3",
      "display_name": "Python 3"
    },
    "language_info": {
      "name": "python"
    }
  },
  "cells": [
    {
      "cell_type": "markdown",
      "source": [
        "## Retos:\n",
        "1. Pregunta al usuario dos números y luego retorna el resultado. Nota: los valores que entran se identifican como string, debes convertirlos a integer o float.\n",
        "2. Pida al usuario que ingrese tres números. Suma los dos primeros números y luego multiplica este total por el tercero.\n",
        "3. Escriba un programa que solicite una cantidad de días y luego muestre cuántas horas, minutos y segundos hay en esa cantidad de días.\n",
        "4. Has un programa que pida al usuario un número mayor a 100 y otro menor 10, y que retorne cuantes veces el número menor cabe dentro del número mayor. Nota: debe retornar un valor entero (integer).\n",
        "5. Muestra pi (π) con cinco decimales.\n",
        "6. Explica de manera breve la diferencia entre `math` y `numpy`.\n",
        "Nota 01: puedes usar el modulo de `numpy` o usar el modulo de `math`.\n",
        "\n",
        "Nota 02: Recuerda que al introducir un numero usando `input `debes convertirlo a un número float o int.\n",
        "\n",
        "```python\n",
        "\n",
        "num = float(input(\"Introduce un número: \")) # Para el caso de usar float.\n",
        "\n",
        "```"
      ],
      "metadata": {
        "id": "RNcX9IEs6MKZ"
      }
    },
    {
      "cell_type": "markdown",
      "source": [
        "Ejercicio 1"
      ],
      "metadata": {
        "id": "D4qlpyn9GkeL"
      }
    },
    {
      "cell_type": "code",
      "source": [
        "import numpy as np\n",
        "import math\n",
        "a = float(input (\"introduce un número: \"))\n",
        "print (\"a=\",a)\n",
        "b = float(input (\"introduce un número: \"))\n",
        "print (\"b=\",b)\n",
        "print(\"a + b =\",a+b)"
      ],
      "metadata": {
        "colab": {
          "base_uri": "https://localhost:8080/"
        },
        "id": "JMl8JSgqB0PQ",
        "outputId": "bcc4a6e5-8883-4ab3-df29-160a32278a3f"
      },
      "execution_count": null,
      "outputs": [
        {
          "output_type": "stream",
          "name": "stdout",
          "text": [
            "introduce un número: 2\n",
            "a= 2.0\n",
            "introduce un número: 2\n",
            "b= 2.0\n",
            "a + b = 4.0\n"
          ]
        }
      ]
    },
    {
      "cell_type": "markdown",
      "source": [
        "Ejercicio 2"
      ],
      "metadata": {
        "id": "Cg9Z7JBfGnJI"
      }
    },
    {
      "cell_type": "code",
      "source": [
        "\n",
        "a = float(input (\"introduce un número: \"))\n",
        "print (\"a=\",a)\n",
        "b = float(input (\"introduce un número: \"))\n",
        "print (\"b=\",b)\n",
        "c = float(input (\"introduce un número: \"))\n",
        "print (\"c=\",c)\n",
        "print(\"(a + b) * c =\",(a+b)*c)\n"
      ],
      "metadata": {
        "colab": {
          "base_uri": "https://localhost:8080/"
        },
        "id": "v4RjzPDRF3W6",
        "outputId": "e79abc84-cd0b-491a-ac47-65b5dd86773d"
      },
      "execution_count": null,
      "outputs": [
        {
          "output_type": "stream",
          "name": "stdout",
          "text": [
            "introduce un número: 1\n",
            "a= 1.0\n",
            "introduce un número: 1\n",
            "b= 1.0\n",
            "introduce un número: 2\n",
            "c= 2.0\n",
            "(a + b) * c = 4.0\n"
          ]
        }
      ]
    },
    {
      "cell_type": "markdown",
      "source": [
        "Ejercicio 3"
      ],
      "metadata": {
        "id": "_pUhsl3GIOBk"
      }
    },
    {
      "cell_type": "code",
      "source": [
        "dias = float(input (\"Ingresa una cantidad de días \"))\n",
        "hora = 24 * dias\n",
        "minuto = 24 * 60 * dias\n",
        "segundo = 24 * 60 * 60 * dias\n",
        "print(\"Horas: \",hora)\n",
        "print(\"Minutos: \",minuto)\n",
        "print(\"Segundos: \",segundo)"
      ],
      "metadata": {
        "colab": {
          "base_uri": "https://localhost:8080/"
        },
        "id": "iwQxT6q7IPfs",
        "outputId": "3774f4a6-6bf3-4680-851f-324ac6430ec8"
      },
      "execution_count": null,
      "outputs": [
        {
          "output_type": "stream",
          "name": "stdout",
          "text": [
            "Ingresa una cantidad de días 10\n",
            "Horas:  240.0\n",
            "Minutos:  14400.0\n",
            "Segundos:  864000.0\n"
          ]
        }
      ]
    },
    {
      "cell_type": "markdown",
      "source": [
        "Ejercicio 4"
      ],
      "metadata": {
        "id": "lNS6M9HNKPKs"
      }
    },
    {
      "cell_type": "code",
      "source": [
        "a = int(input (\"introduce un número mayor a 100: \"))\n",
        "print (\"a=\",a)\n",
        "b = int(input (\"introduce un número menor a 10: \"))\n",
        "print (\"b=\",b)\n",
        "print(\"a / / b =\",a//b)\n"
      ],
      "metadata": {
        "colab": {
          "base_uri": "https://localhost:8080/"
        },
        "id": "YD-601qRKRYq",
        "outputId": "614cffac-f958-4fab-c7a7-fc457e569ae5"
      },
      "execution_count": null,
      "outputs": [
        {
          "output_type": "stream",
          "name": "stdout",
          "text": [
            "introduce un número mayor a 100: 101\n",
            "a= 101\n",
            "introduce un número menor a 10: 4\n",
            "b= 4\n",
            "a / / b = 25\n"
          ]
        }
      ]
    },
    {
      "cell_type": "markdown",
      "source": [
        "Ejercicio 5"
      ],
      "metadata": {
        "id": "HrDeScrjLuoh"
      }
    },
    {
      "cell_type": "code",
      "source": [
        "p=math.pi\n",
        "print(round(p,5))\n",
        "\n"
      ],
      "metadata": {
        "colab": {
          "base_uri": "https://localhost:8080/"
        },
        "id": "72isyS48LxY2",
        "outputId": "239d30e2-e032-4b09-f374-b7df2df2c3e7"
      },
      "execution_count": null,
      "outputs": [
        {
          "output_type": "stream",
          "name": "stdout",
          "text": [
            "3.14159\n"
          ]
        }
      ]
    },
    {
      "cell_type": "markdown",
      "source": [
        "Ejercicio 6"
      ],
      "metadata": {
        "id": "qb1o53gEMRne"
      }
    },
    {
      "cell_type": "code",
      "source": [
        "Numpy es para operaciones más complejas y math es para operaciones básicas, además que math es la biblioteca por defecto de phyton y numpy es una biblioteca que se debe importar."
      ],
      "metadata": {
        "id": "zLwjkKDmMU-Z"
      },
      "execution_count": null,
      "outputs": []
    },
    {
      "cell_type": "markdown",
      "source": [
        "Retos:\n",
        "1. Pídale al usuario que ingrese su nombre y luego muestre la longitud de su nombre.\n",
        "2. Pídale al usuario que ingrese su nombre y luego pídale que ingrese su apellido. Únalos con un espacio entre ellos y muestre el nombre y la longitud del nombre completo.\n",
        "3. Pídale al usuario que escriba cualquier palabra y la muestre en mayúsculas.\n",
        "4. Pídale al usuario que ingrese su nombre. Si la longitud de su nombre tiene menos de cinco caracteres, pídales que ingresen su apellido y los unan (sin espacios) y muestren el nombre en mayúsculas. Si la longitud del nombre es de cinco o más caracteres, muestre su nombre en minúsculas."
      ],
      "metadata": {
        "id": "ClU8Ebc_6M85"
      }
    },
    {
      "cell_type": "markdown",
      "source": [
        "Ejercicio 1"
      ],
      "metadata": {
        "id": "Rzt_3s6iNFR7"
      }
    },
    {
      "cell_type": "code",
      "source": [
        "nombre = input (\"ingrese su nombre: \")\n",
        "print(len(nombre))"
      ],
      "metadata": {
        "colab": {
          "base_uri": "https://localhost:8080/"
        },
        "id": "mWF0gJ_cNGgM",
        "outputId": "a91a5a1a-1ede-46a0-a436-80223f3c9e6a"
      },
      "execution_count": null,
      "outputs": [
        {
          "output_type": "stream",
          "name": "stdout",
          "text": [
            "ingrese su nombre: Lobo\n",
            "4\n"
          ]
        }
      ]
    },
    {
      "cell_type": "markdown",
      "source": [
        "Ejercicio 2"
      ],
      "metadata": {
        "id": "ezYjkkd_NkF1"
      }
    },
    {
      "cell_type": "code",
      "source": [
        "nombre = input (\"ingrese su nombre: \")\n",
        "apellido = input (\"ingrese su apellido: \")\n",
        "print(\"Tu nombre completo: \", nombre+\" \"+apellido)\n",
        "nc=nombre+\" \"+apellido\n",
        "ncc=nombre+apellido\n",
        "print(len(ncc))"
      ],
      "metadata": {
        "colab": {
          "base_uri": "https://localhost:8080/"
        },
        "id": "u23XUx-HNmX8",
        "outputId": "7a2ac0cf-23a2-4414-fb83-c2d766e44d7d"
      },
      "execution_count": null,
      "outputs": [
        {
          "output_type": "stream",
          "name": "stdout",
          "text": [
            "ingrese su nombre: juan\n",
            "ingrese su apellido: perez\n",
            "Tu nombre completo:  juan perez\n",
            "9\n"
          ]
        }
      ]
    },
    {
      "cell_type": "markdown",
      "source": [
        "Ejercicio 3"
      ],
      "metadata": {
        "id": "WQm4Wy3ERrUJ"
      }
    },
    {
      "cell_type": "code",
      "source": [
        "palabra = input (\"ingrese una palabra: \")\n",
        "print(palabra.upper())"
      ],
      "metadata": {
        "colab": {
          "base_uri": "https://localhost:8080/"
        },
        "id": "zSg3Ok8-RtLh",
        "outputId": "f1b8743a-6020-4ffd-a406-c83e292ab571"
      },
      "execution_count": null,
      "outputs": [
        {
          "output_type": "stream",
          "name": "stdout",
          "text": [
            "ingrese una palabra: santo\n",
            "SANTO\n"
          ]
        }
      ]
    },
    {
      "cell_type": "markdown",
      "source": [
        "Ejercicio 4"
      ],
      "metadata": {
        "id": "YmM9o3JcSVoZ"
      }
    },
    {
      "cell_type": "code",
      "source": [
        "#Pídale al usuario que ingrese su nombre. Si la longitud de su nombre tiene menos de cinco caracteres, pídales que ingresen su apellido y los unan (sin espacios) y muestren el nombre en mayúsculas. Si la longitud del nombre es de cinco o más caracteres, muestre su nombre en minúsculas.\n",
        "nombre = input (\"ingrese su nombre: \")\n",
        "if len(nombre)<5:\n",
        "  apellido = input (\"ingrese su apellido: \")\n",
        "  nc=nombre+apellido\n",
        "  print(nc.upper())\n",
        "else:\n",
        "  print(nombre.lower())"
      ],
      "metadata": {
        "colab": {
          "base_uri": "https://localhost:8080/"
        },
        "id": "fuGjFtEhSX1x",
        "outputId": "f0b6ce35-5d93-4b8f-e610-33ac62cdc9ce"
      },
      "execution_count": null,
      "outputs": [
        {
          "output_type": "stream",
          "name": "stdout",
          "text": [
            "ingrese su nombre: alejandro\n",
            "alejandro\n"
          ]
        }
      ]
    },
    {
      "cell_type": "markdown",
      "source": [
        "## Métodos Importantes de los Strings en Python\n",
        "\n",
        "En Python, los strings son objetos que tienen una variedad de métodos integrados que facilitan su manipulación. A continuación, se presentan algunos de los métodos más importantes:\n",
        "\n",
        "- `len()`: Es un método no exclusivo de strings, pero puede usarse para retornar el largo, ya sea de un sntring, lista, tupla o diccioanrio.\n",
        "- `upper()`: Convierte el string a mayúsculas.\n",
        "\n",
        "- `lower()`: Convierte el string a minúsculas.\n",
        "\n",
        "- `capitalize()`: Convierte el primer carácter del string a mayúscula y el resto a minúsculas.\n",
        "\n",
        "- `strip()`: Elimina los espacios en blanco al principio y al final del string.\n",
        "\n",
        "- `replace(old, new)`: Reemplaza todas las ocurrencias del substring \"old\" con el substring \"new\".\n",
        "\n",
        "- `split(sep)`: Divide el string en una lista de substrings basados en el separador \"sep\".\n",
        "\n",
        "- `join(iterable)`: Une los elementos de un iterable (por ejemplo, una lista) en un string utilizando el string como separador.\n",
        "\n",
        "- `find(sub)`: Devuelve el índice de la primera ocurrencia del substring \"sub\" en el string. Si no se encuentra, devuelve -1.\n",
        "\n",
        "- `startswith(prefix)`: Devuelve True si el string comienza con el prefijo \"prefix\", de lo contrario, devuelve False.\n",
        "\n",
        "- `endswith(suffix)`: Devuelve True si el string termina con el sufijo \"suffix\", de lo contrario, devuelve False.\n",
        "\n",
        "### Tarea/Reto:\n",
        "\n",
        "Investiga otros métodos de los strings en Python. Puedes consultar la documentación oficial de Python o buscar tutoriales en línea. Intenta encontrar métodos que te resulten interesantes o útiles para tus proyectos futuros. Algunos lugares para comenzar tu investigación incluyen:\n",
        "\n",
        "- [Documentación oficial de Python](https://docs.python.org/3/library/stdtypes.html#string-methods)\n",
        "- Tutoriales en línea sobre Python y programación en general.\n",
        "- ChatGPT.\n",
        "\n",
        "¡Buena suerte con tu investigación! Aprender sobre métodos adicionales de los strings te ayudará a mejorar tus habilidades de programación en Python."
      ],
      "metadata": {
        "id": "_eyPu5ri6USF"
      }
    },
    {
      "cell_type": "markdown",
      "source": [
        "Retos:\n",
        "1. Pídale al usuario que ingrese su nombre y luego muestre su nombre tres veces.\n",
        "2. Modifique el programa 1 para que le solicite al usuario que ingrese su nombre y un número y luego muestre su nombre ese número de veces.\n",
        "3. Pídale al usuario que ingrese su nombre y muestre cada letra de su nombre en una línea separada.\n",
        "4. Pregunte al usuario en qué dirección quiere contar el usuario (hacia arriba o hacia abajo). Si seleccionan, pídales el número superior y luego cuente desde 1 hasta ese número. Si seleccionan hacia abajo, pídales que ingresen un número inferior a 20 y luego cuenten hacia atrás desde 20 hasta ese número. Si ingresaron algo que no sea arriba o abajo, muestra el mensaje \"No entiendo\".\n",
        "5. Pregunte a cuántas personas quiere invitar el usuario a una fiesta. Si ingresan un número inferior a 10, solicite los nombres y después de cada nombre muestre \"[nombre] ha sido invitado\". Si ingresan un número que es 10 o más, muestra el mensaje \"Demasiadas personas\".\n",
        "\n",
        "Nota: En el Reto 4, se tiene que usar el condicional `if`."
      ],
      "metadata": {
        "id": "fBHb5xG96hdb"
      }
    },
    {
      "cell_type": "markdown",
      "source": [
        "Ejercicio 1\n"
      ],
      "metadata": {
        "id": "2EQlgxFL_2MZ"
      }
    },
    {
      "cell_type": "code",
      "source": [
        "\n",
        "nombre = input(\"Por favor, ingresa tu nombre: \")\n",
        "\n",
        "\n",
        "for _ in range(3):\n",
        "    print(nombre)\n"
      ],
      "metadata": {
        "colab": {
          "base_uri": "https://localhost:8080/"
        },
        "id": "223Ai4l5-sqg",
        "outputId": "7f2e0e32-4cfe-40cd-9d63-4355f8ada58b"
      },
      "execution_count": null,
      "outputs": [
        {
          "output_type": "stream",
          "name": "stdout",
          "text": [
            "Por favor, ingresa tu nombre: juanito\n",
            "juanito\n",
            "juanito\n",
            "juanito\n"
          ]
        }
      ]
    },
    {
      "cell_type": "markdown",
      "source": [
        "Ejercicio 2\n"
      ],
      "metadata": {
        "id": "XZ_MeBdp_4ZE"
      }
    },
    {
      "cell_type": "code",
      "source": [
        "nombre = input(\"Por favor, ingresa tu nombre: \")\n",
        "numero = int(input(\"Por favor, ingresa un número: \"))\n",
        "\n",
        "\n",
        "for _ in range(numero):\n",
        "    print(nombre)"
      ],
      "metadata": {
        "colab": {
          "base_uri": "https://localhost:8080/"
        },
        "id": "B2AVQ4fO_67Z",
        "outputId": "b29b24a1-f3a8-436f-df69-c5768dbd1f05"
      },
      "execution_count": null,
      "outputs": [
        {
          "output_type": "stream",
          "name": "stdout",
          "text": [
            "Por favor, ingresa tu nombre: pepe\n",
            "Por favor, ingresa un número: 4\n",
            "pepe\n",
            "pepe\n",
            "pepe\n",
            "pepe\n"
          ]
        }
      ]
    },
    {
      "cell_type": "markdown",
      "source": [
        "Ejercicio 3"
      ],
      "metadata": {
        "id": "z4LTsQ9yALtL"
      }
    },
    {
      "cell_type": "code",
      "source": [
        "nombre = input(\"Por favor, ingresa tu nombre: \")\n",
        "\n",
        "for letra in nombre:\n",
        "    print(letra)"
      ],
      "metadata": {
        "colab": {
          "base_uri": "https://localhost:8080/"
        },
        "id": "37wfGCOwA0hj",
        "outputId": "0f3376d0-9608-44d3-fca3-7f9703581c63"
      },
      "execution_count": null,
      "outputs": [
        {
          "output_type": "stream",
          "name": "stdout",
          "text": [
            "Por favor, ingresa tu nombre: andres\n",
            "a\n",
            "n\n",
            "d\n",
            "r\n",
            "e\n",
            "s\n"
          ]
        }
      ]
    },
    {
      "cell_type": "markdown",
      "source": [
        "Ejercicio 4\n",
        "Pregunte al usuario en qué dirección quiere contar el usuario (hacia arriba o hacia abajo). Si seleccionan, pídales el número superior y luego cuente desde 1 hasta ese número. Si seleccionan hacia abajo, pídales que ingresen un número inferior a 20 y luego cuenten hacia atrás desde 20 hasta ese número. Si ingresaron algo que no sea arriba o abajo, muestra el mensaje \"No entiendo\"."
      ],
      "metadata": {
        "id": "DOQjPtXWBXUm"
      }
    },
    {
      "cell_type": "code",
      "source": [
        "a = input(\"¿En qué dirección quiere contar?: \")\n",
        "if a == \"arriba\":\n",
        "    b = int(input(\"Ingrese un número superior: \"))\n",
        "    for i in range(1, b+1):\n",
        "        print(i)\n",
        "elif a == \"abajo\":\n",
        "    b = int(input(\"Ingrese un número inferior a 20: \"))\n",
        "    for i in range (20, b-1, -1):\n",
        "      print(i)\n",
        "elif a != \"arriba\" and a != \"abajo\":\n",
        "    print(\"No entiendo\")"
      ],
      "metadata": {
        "colab": {
          "base_uri": "https://localhost:8080/"
        },
        "id": "k8T9uZ6DBYpL",
        "outputId": "5a94190e-a1be-4632-ac95-b61120d990b2"
      },
      "execution_count": null,
      "outputs": [
        {
          "output_type": "stream",
          "name": "stdout",
          "text": [
            "¿En qué dirección quiere contar?: p\n",
            "No entiendo\n"
          ]
        }
      ]
    },
    {
      "cell_type": "markdown",
      "source": [
        "Pregunte a cuántas personas quiere invitar el usuario a una fiesta. Si ingresan un número inferior a 10, solicite los nombres y después de cada nombre muestre \"[nombre] ha sido invitado\". Si ingresan un número que es 10 o más, muestra el mensaje \"Demasiadas personas\"."
      ],
      "metadata": {
        "id": "ZKNWD9uFE62i"
      }
    },
    {
      "cell_type": "code",
      "source": [
        "a = int(input(\"¿Cuántas personas quiere invitar a la fiesta?: \"))\n",
        "if a < 10:\n",
        "    for i in range(a):\n",
        "        b = input(\"Ingrese el nombre de la persona: \")\n",
        "        print(b, \"ha sido invitado\")\n",
        "elif a >= 10:\n",
        "        print(\"Demasiadas personas\")"
      ],
      "metadata": {
        "colab": {
          "base_uri": "https://localhost:8080/"
        },
        "id": "cdMAtukeFDSW",
        "outputId": "7877b970-f62a-472e-b9bd-80e1a6a9bc7b"
      },
      "execution_count": null,
      "outputs": [
        {
          "output_type": "stream",
          "name": "stdout",
          "text": [
            "¿Cuántas personas quiere invitar a la fiesta?: 2\n",
            "Ingrese el nombre de la persona: Alejandrio\n",
            "Alejandrio ha sido invitado\n",
            "Ingrese el nombre de la persona: Paco\n",
            "Paco ha sido invitado\n"
          ]
        }
      ]
    },
    {
      "cell_type": "markdown",
      "source": [
        "Retos:\n",
        "1. Muestra un número entero aleatorio entre 1 y 100 inclusive.\n",
        "2. Elija aleatoriamente cara o cruz (“h” o “t”). Pídale al usuario que haga su elección. Si su elección es la misma que el valor seleccionado al azar, muestra el mensaje \"Tú ganas\", de lo contrario muestra \"Mala suerte\". Al final, dígale al usuario si la computadora seleccionó cara o cruz.\n",
        "3. Haga una prueba de matemáticas que formule cinco preguntas generando aleatoriamente dos números enteros para formar la pregunta (por ejemplo, [num1] + [num2]). Pídale al usuario que ingrese la respuesta. Si lo hacen bien, suman un punto a su puntuación. Al final del cuestionario, dígales cuántos de cinco acertaron.\n",
        "4. Muestra cinco colores y pide al usuario que elija uno. Si eligen el mismo que eligió el programa, diga \"Bien hecho\", de lo contrario muestre una respuesta ingeniosa que involucre el color correcto, por ejemplo. “Apuesto a que estás VERDE de envidia” o “Probablemente te sientas AZUL en este momento”. Pídales que adivinen nuevamente; Si todavía no lo han hecho bien, sigue dándoles la misma pista y pide al usuario que introduzca un color hasta que lo adivine correctamente.\n",
        "\n",
        "Nota: En el último ejercicio, tendrás que usar el ciclo `while` y el condicional `if`."
      ],
      "metadata": {
        "id": "Gvhmh7gz6oJt"
      }
    },
    {
      "cell_type": "markdown",
      "source": [
        "Ejercicio 1 Muestra un número entero aleatorio entre 1 y 100 inclusive."
      ],
      "metadata": {
        "id": "HbYxnY5IH_nd"
      }
    },
    {
      "cell_type": "code",
      "source": [
        "import numpy as np\n",
        "x = np.random.randint(1, 100)\n",
        "print(x)"
      ],
      "metadata": {
        "colab": {
          "base_uri": "https://localhost:8080/"
        },
        "id": "mQoReFWGICGj",
        "outputId": "7382ec11-7a6a-4130-9bb5-f64feb17536d"
      },
      "execution_count": null,
      "outputs": [
        {
          "output_type": "stream",
          "name": "stdout",
          "text": [
            "51\n"
          ]
        }
      ]
    },
    {
      "cell_type": "markdown",
      "source": [
        "Ejercicio 2 Elija aleatoriamente cara o cruz (“h” o “t”). Pídale al usuario que haga su elección. Si su elección es la misma que el valor seleccionado al azar, muestra el mensaje \"Tú ganas\", de lo contrario muestra \"Mala suerte\". Al final, dígale al usuario si la computadora seleccionó cara o cruz."
      ],
      "metadata": {
        "id": "ItFE8DftIqWF"
      }
    },
    {
      "cell_type": "code",
      "source": [
        "import numpy as np\n",
        "b= input (\"¿Cara o cruz?: \")\n",
        "a = np.random.choice([\"cara\", \"cruz\"])\n",
        "if b == a:\n",
        "  print(\"Tú ganas\")\n",
        "else:\n",
        "  print(\"Mala suerte\")\n",
        "\n",
        "print (\"La computadora seleccionó\", a)"
      ],
      "metadata": {
        "colab": {
          "base_uri": "https://localhost:8080/"
        },
        "id": "T6TTNjUCIw1c",
        "outputId": "3225dd40-bc6f-46e9-b092-9d837f38964a"
      },
      "execution_count": null,
      "outputs": [
        {
          "output_type": "stream",
          "name": "stdout",
          "text": [
            "¿Cara o cruz?: cruz\n",
            "Tú ganas\n",
            "La computadora seleccionó cruz\n"
          ]
        }
      ]
    },
    {
      "cell_type": "markdown",
      "source": [
        "Ejercicio 3 Haga una prueba de matemáticas que formule cinco preguntas generando aleatoriamente dos números enteros para formar la pregunta (por ejemplo, [num1] + [num2]). Pídale al usuario que ingrese la respuesta. Si lo hacen bien, suman un punto a su puntuación. Al final del cuestionario, dígales cuántos de cinco acertaron."
      ],
      "metadata": {
        "id": "_BzbS8kWKtB4"
      }
    },
    {
      "cell_type": "code",
      "source": [
        "import random\n",
        "puntuacion = 0\n",
        "\n",
        "for i in range(5):\n",
        "    num1 = random.randint(1, 10)\n",
        "    num2 = random.randint(1, 10)\n",
        "    respuesta_correcta = num1 + num2\n",
        "\n",
        "    print(f\"Pregunta {i+1}: ¿Cuánto es {num1} + {num2}?\")\n",
        "    respuesta_usuario = int(input(\"Tu respuesta: \"))\n",
        "\n",
        "    if respuesta_usuario == respuesta_correcta:\n",
        "        print(\"¡Correcto!\")\n",
        "        puntuacion += 1\n",
        "    else:\n",
        "        print(f\"Incorrecto. La respuesta correcta es {respuesta_correcta}.\")\n",
        "\n",
        "print(f\"Has acertado {puntuacion} de 5 preguntas.\")\n",
        "\n"
      ],
      "metadata": {
        "colab": {
          "base_uri": "https://localhost:8080/"
        },
        "id": "1afq8DdkK3SL",
        "outputId": "427add3a-11a9-43ee-a5a5-47ea2face66b"
      },
      "execution_count": null,
      "outputs": [
        {
          "output_type": "stream",
          "name": "stdout",
          "text": [
            "Pregunta 1: ¿Cuánto es 8 + 6?\n",
            "Tu respuesta: 14\n",
            "¡Correcto!\n",
            "Pregunta 2: ¿Cuánto es 6 + 7?\n",
            "Tu respuesta: 1\n",
            "Incorrecto. La respuesta correcta es 13.\n",
            "Pregunta 3: ¿Cuánto es 9 + 4?\n",
            "Tu respuesta: 13\n",
            "¡Correcto!\n",
            "Pregunta 4: ¿Cuánto es 9 + 9?\n",
            "Tu respuesta: 18\n",
            "¡Correcto!\n",
            "Pregunta 5: ¿Cuánto es 1 + 3?\n",
            "Tu respuesta: 5\n",
            "Incorrecto. La respuesta correcta es 4.\n",
            "Has acertado 3 de 5 preguntas.\n"
          ]
        }
      ]
    },
    {
      "cell_type": "markdown",
      "source": [
        "Muestra cinco colores y pide al usuario que elija uno. Si eligen el mismo que eligió el programa, diga \"Bien hecho\", de lo contrario muestre una respuesta ingeniosa que involucre el color correcto, por ejemplo. “Apuesto a que estás VERDE de envidia” o “Probablemente te sientas AZUL en este momento”. Pídales que adivinen nuevamente; Si todavía no lo han hecho bien, sigue dándoles la misma pista y pide al usuario que introduzca un color hasta que lo adivine correctamente."
      ],
      "metadata": {
        "id": "q54LkpGjaqON"
      }
    },
    {
      "cell_type": "code",
      "source": [
        "\n",
        "import random\n",
        "colores = [\"rojo\", \"azul\", \"verde\", \"amarillo\", \"morado\"]\n",
        "\n",
        "print(\"Lista de colores:\", colores)\n",
        "\n",
        "for color in colores:\n",
        "    print(color)\n",
        "a = input(\"Elija un color: \")\n",
        "\n",
        "def respuesta_ingeniosa (colores):\n",
        "  respuestas = {\n",
        "      \"rojo\": \"Te estas poniendo rojo con un tomate, INTENTA OTRA VEZ\",\n",
        "      \"azul\": \"Te pusiste azul del susto, animo intentalo de nuevo\",\n",
        "      \"verde\": \"¿No adiviniste y te pusiste verde?, anda de nuevo\",\n",
        "      \"amarillo\": \"Uyyy no, probablemente tienes hepatitis o ¿Por qué tan amarillo?, intenta otra vez\",\n",
        "      \"morado\": \"Morado de coraje, ya, un intento más\"\n",
        "      }\n",
        "  return respuestas [colores]\n",
        "\n",
        "color_elegido = random.choice(colores)\n",
        "\n",
        "while True:\n",
        "  if color_elegido == a :\n",
        "    print(\"Bien hecho\")\n",
        "    break\n",
        "  else:\n",
        "    print(respuesta_ingeniosa(color_elegido))\n",
        "    a = input(\"Elija un color: \")\n"
      ],
      "metadata": {
        "colab": {
          "base_uri": "https://localhost:8080/"
        },
        "id": "t6eGvze0cImf",
        "outputId": "3ee320c3-78ec-469c-947c-8546ba1479d0"
      },
      "execution_count": null,
      "outputs": [
        {
          "output_type": "stream",
          "name": "stdout",
          "text": [
            "Lista de colores: ['rojo', 'azul', 'verde', 'amarillo', 'morado']\n",
            "rojo\n",
            "azul\n",
            "verde\n",
            "amarillo\n",
            "morado\n",
            "Elija un color: morado\n",
            "¿No adiviniste y te pusiste verde?, anda de nuevo\n",
            "Elija un color: verde\n",
            "Bien hecho\n"
          ]
        }
      ]
    },
    {
      "cell_type": "markdown",
      "source": [
        "**Tarea/Reto: Investigar otros métodos de las listas en Python**\n",
        "\n",
        "Investiga otros métodos disponibles para manipular listas en Python, además de los mencionados anteriormente. En particular, busca información sobre el método `index()` y al menos otros tres métodos adicionales que sean útiles para trabajar con listas.\n",
        "\n",
        "Documenta qué hacen estos métodos y proporciona ejemplos de su uso. Explica en qué situaciones sería útil utilizar cada uno de estos métodos y cómo pueden contribuir a la manipulación eficiente de listas en Python.\n",
        "\n",
        "Una vez completada la investigación, comparte tus hallazgos en moodle."
      ],
      "metadata": {
        "id": "zYuxOJTs6u1f"
      }
    },
    {
      "cell_type": "markdown",
      "source": [
        "Retos:\n",
        "1. Defina una función que le pida al usuario que ingrese un número y lo guarde como la variable \"num\". Luego defina otra función que use \"num\" y cuente desde 1 hasta ese número. (Nota: sigue la lógia de divide y vencerás).\n",
        "2. Muestra el siguiente mensaje:\n",
        "```\n",
        "1) Sumar\n",
        "2) Restar\n",
        "```\n",
        "Si introduce 1, se generan dos númerso aleatorios antre 5 y 20, y luego pedirle al usuario que realice la suma de esos dos números. Después, comprobar si la suma se realizo de manera correcta, y decirle al usuario su realizo de manera correcta o no la operación.\n",
        "Si se selecciona 2, entonces se deben generar dos números aleatorios, uno entre 25 y 50 (`num_01`), y el otro en 1 y 25 (`num_02`), después se le pedirá al usuario que reste `num_01` menos `num_02`. De igual manera, decir al usuario si la respuesta fue correcta o no.\n",
        "3. Cree el siguiente menú:\n",
        "```\n",
        "1) Agregar a archivo.\n",
        "2) Ver los registros.\n",
        "3) Salir del programa.\n",
        "```\n",
        "Si el usuario selecciona 1, permítale agregar a un archivo llamado Salaries.csv que almacenará su nombre y salario. Si seleccionan 2, debería mostrar todos los registros en el archivo Salaries.csv. Si seleccionan 3, debería detener el programa. Si seleccionan una opción incorrecta, deberían ver un mensaje de error. Deberán seguir regresando al menú hasta seleccionar la opción 3.\n",
        "Nota: En este reto, tienes que usar `while` y el modulo `csv`."
      ],
      "metadata": {
        "id": "ZGhkb3YP693Y"
      }
    },
    {
      "cell_type": "markdown",
      "source": [
        "Defina una función que le pida al usuario que ingrese un número y lo guarde como la variable \"num\". Luego defina otra función que use \"num\" y cuente desde 1 hasta ese número. (Nota: sigue la lógia de divide y vencerás)."
      ],
      "metadata": {
        "id": "4mjs5TCxnNnp"
      }
    },
    {
      "cell_type": "code",
      "source": [
        "num = input(\"Ingrese un número \")\n",
        "def funcion2(num):\n",
        "  for i in range(1, num+1):\n",
        "    print(i)\n",
        "funcion2(int(num))"
      ],
      "metadata": {
        "colab": {
          "base_uri": "https://localhost:8080/"
        },
        "id": "6FbN9ho0nUD6",
        "outputId": "e5467f2d-e7d9-4fe7-95e9-f8dff27232a4"
      },
      "execution_count": null,
      "outputs": [
        {
          "output_type": "stream",
          "name": "stdout",
          "text": [
            "Ingrese un número 2\n",
            "1\n",
            "2\n"
          ]
        }
      ]
    },
    {
      "cell_type": "markdown",
      "source": [
        "Si introduce 1, se generan dos númerso aleatorios antre 5 y 20, y luego pedirle al usuario que realice la suma de esos dos números. Después, comprobar si la suma se realizo de manera correcta, y decirle al usuario su realizo de manera correcta o no la operación. Si se selecciona 2, entonces se deben generar dos números aleatorios, uno entre 25 y 50 (num_01), y el otro en 1 y 25 (num_02), después se le pedirá al usuario que reste num_01 menos num_02. De igual manera, decir al usuario si la respuesta fue correcta o no."
      ],
      "metadata": {
        "id": "1RpCV4TLoSF6"
      }
    },
    {
      "cell_type": "code",
      "source": [
        "\n",
        "  print(\"1) Sumar\")\n",
        "  print(\"2) Restar\")\n",
        "  opcion = input(\"Seleccione una opción: \")\n",
        "  if opcion == \"1\":\n",
        "    import random\n",
        "    num_01 = random.randint(5, 20)\n",
        "    num_02 = random.randint(5, 20)\n",
        "    print(\"Los números son\", num_01, \"y\", num_02)\n",
        "    suma = num_01 + num_02\n",
        "    respuesta = int(input(\"Ingrese la suma de los números: \"))\n",
        "    if respuesta == suma:\n",
        "      print(\"La suma se realizó de manera correcta\")\n",
        "    else:\n",
        "      print(\"La suma no se realizó de manera correcta\")\n",
        "  else :\n",
        "    num_01 = random.randint(25, 50)\n",
        "    num_02 = random.randint(1, 25)\n",
        "    print(\"Los números son\", num_01, \"y\", num_02)\n",
        "    resta = num_01 - num_02\n",
        "    respuesta = int(input(\"Ingrese la resta de los números: \"))\n",
        "    if respuesta == resta:\n",
        "      print(\"La resta se realizó de manera correcta\")\n",
        "    else:\n",
        "      print(\"La resta no se realizó de manera correcta\")"
      ],
      "metadata": {
        "colab": {
          "base_uri": "https://localhost:8080/"
        },
        "id": "zzBmWDAwoS1E",
        "outputId": "9eb9234c-34c8-4ab6-ca9a-1446775c19ee"
      },
      "execution_count": null,
      "outputs": [
        {
          "output_type": "stream",
          "name": "stdout",
          "text": [
            "1) Sumar\n",
            "2) Restar\n",
            "Seleccione una opción: 2\n",
            "Los números son 42 y 18\n",
            "Ingrese la resta de los números: 24\n",
            "La resta se realizó de manera correcta\n"
          ]
        }
      ]
    },
    {
      "cell_type": "code",
      "source": [
        "import random\n",
        "\n",
        "def suma():\n",
        "    num1 = random.randint(5, 20)\n",
        "    num2 = random.randint(5, 20)\n",
        "    print(f\"Suma los siguientes números: {num1} + {num2}\")\n",
        "    respuesta_usuario = int(input(\"Tu respuesta: \"))\n",
        "    if respuesta_usuario == num1 + num2:\n",
        "        print(\"¡Correcto! Bien hecho.\")\n",
        "    else:\n",
        "        print(f\"Incorrecto. La respuesta correcta es {num1 + num2}.\")\n",
        "\n",
        "def resta():\n",
        "    num1 = random.randint(25, 50)\n",
        "    num2 = random.randint(1, 25)\n",
        "    print(f\"Resta los siguientes números: {num1} - {num2}\")\n",
        "    respuesta_usuario = int(input(\"Tu respuesta: \"))\n",
        "    if respuesta_usuario == num1 - num2:\n",
        "        print(\"¡Correcto! Bien hecho.\")\n",
        "    else:\n",
        "        print(f\"Incorrecto. La respuesta correcta es {num1 - num2}.\")\n",
        "\n",
        "def main():\n",
        "    print(\"Selecciona una opción:\")\n",
        "    print(\"1. Suma\")\n",
        "    print(\"2. Resta\")\n",
        "    opcion = int(input(\"Introduce 1 o 2: \"))\n",
        "\n",
        "    if opcion == 1:\n",
        "        suma()\n",
        "    elif opcion == 2:\n",
        "        resta()\n",
        "    else:\n",
        "        print(\"Opción no válida. Por favor, introduce 1 o 2.\")\n",
        "\n",
        "if __name__ == \"__main__\":\n",
        "    main()\n"
      ],
      "metadata": {
        "colab": {
          "base_uri": "https://localhost:8080/",
          "height": 373
        },
        "id": "-ocr3Ycjrpvv",
        "outputId": "72ed7691-e90c-41c4-e862-db19619165ab"
      },
      "execution_count": null,
      "outputs": [
        {
          "output_type": "stream",
          "name": "stdout",
          "text": [
            "Selecciona una opción:\n",
            "1. Suma\n",
            "2. Resta\n"
          ]
        },
        {
          "output_type": "error",
          "ename": "KeyboardInterrupt",
          "evalue": "Interrupted by user",
          "traceback": [
            "\u001b[0;31m---------------------------------------------------------------------------\u001b[0m",
            "\u001b[0;31mKeyboardInterrupt\u001b[0m                         Traceback (most recent call last)",
            "\u001b[0;32m<ipython-input-1-47b170995c6a>\u001b[0m in \u001b[0;36m<cell line: 36>\u001b[0;34m()\u001b[0m\n\u001b[1;32m     35\u001b[0m \u001b[0;34m\u001b[0m\u001b[0m\n\u001b[1;32m     36\u001b[0m \u001b[0;32mif\u001b[0m \u001b[0m__name__\u001b[0m \u001b[0;34m==\u001b[0m \u001b[0;34m\"__main__\"\u001b[0m\u001b[0;34m:\u001b[0m\u001b[0;34m\u001b[0m\u001b[0;34m\u001b[0m\u001b[0m\n\u001b[0;32m---> 37\u001b[0;31m     \u001b[0mmain\u001b[0m\u001b[0;34m(\u001b[0m\u001b[0;34m)\u001b[0m\u001b[0;34m\u001b[0m\u001b[0;34m\u001b[0m\u001b[0m\n\u001b[0m",
            "\u001b[0;32m<ipython-input-1-47b170995c6a>\u001b[0m in \u001b[0;36mmain\u001b[0;34m()\u001b[0m\n\u001b[1;32m     25\u001b[0m     \u001b[0mprint\u001b[0m\u001b[0;34m(\u001b[0m\u001b[0;34m\"1. Suma\"\u001b[0m\u001b[0;34m)\u001b[0m\u001b[0;34m\u001b[0m\u001b[0;34m\u001b[0m\u001b[0m\n\u001b[1;32m     26\u001b[0m     \u001b[0mprint\u001b[0m\u001b[0;34m(\u001b[0m\u001b[0;34m\"2. Resta\"\u001b[0m\u001b[0;34m)\u001b[0m\u001b[0;34m\u001b[0m\u001b[0;34m\u001b[0m\u001b[0m\n\u001b[0;32m---> 27\u001b[0;31m     \u001b[0mopcion\u001b[0m \u001b[0;34m=\u001b[0m \u001b[0mint\u001b[0m\u001b[0;34m(\u001b[0m\u001b[0minput\u001b[0m\u001b[0;34m(\u001b[0m\u001b[0;34m\"Introduce 1 o 2: \"\u001b[0m\u001b[0;34m)\u001b[0m\u001b[0;34m)\u001b[0m\u001b[0;34m\u001b[0m\u001b[0;34m\u001b[0m\u001b[0m\n\u001b[0m\u001b[1;32m     28\u001b[0m \u001b[0;34m\u001b[0m\u001b[0m\n\u001b[1;32m     29\u001b[0m     \u001b[0;32mif\u001b[0m \u001b[0mopcion\u001b[0m \u001b[0;34m==\u001b[0m \u001b[0;36m1\u001b[0m\u001b[0;34m:\u001b[0m\u001b[0;34m\u001b[0m\u001b[0;34m\u001b[0m\u001b[0m\n",
            "\u001b[0;32m/usr/local/lib/python3.10/dist-packages/ipykernel/kernelbase.py\u001b[0m in \u001b[0;36mraw_input\u001b[0;34m(self, prompt)\u001b[0m\n\u001b[1;32m    849\u001b[0m                 \u001b[0;34m\"raw_input was called, but this frontend does not support input requests.\"\u001b[0m\u001b[0;34m\u001b[0m\u001b[0;34m\u001b[0m\u001b[0m\n\u001b[1;32m    850\u001b[0m             )\n\u001b[0;32m--> 851\u001b[0;31m         return self._input_request(str(prompt),\n\u001b[0m\u001b[1;32m    852\u001b[0m             \u001b[0mself\u001b[0m\u001b[0;34m.\u001b[0m\u001b[0m_parent_ident\u001b[0m\u001b[0;34m,\u001b[0m\u001b[0;34m\u001b[0m\u001b[0;34m\u001b[0m\u001b[0m\n\u001b[1;32m    853\u001b[0m             \u001b[0mself\u001b[0m\u001b[0;34m.\u001b[0m\u001b[0m_parent_header\u001b[0m\u001b[0;34m,\u001b[0m\u001b[0;34m\u001b[0m\u001b[0;34m\u001b[0m\u001b[0m\n",
            "\u001b[0;32m/usr/local/lib/python3.10/dist-packages/ipykernel/kernelbase.py\u001b[0m in \u001b[0;36m_input_request\u001b[0;34m(self, prompt, ident, parent, password)\u001b[0m\n\u001b[1;32m    893\u001b[0m             \u001b[0;32mexcept\u001b[0m \u001b[0mKeyboardInterrupt\u001b[0m\u001b[0;34m:\u001b[0m\u001b[0;34m\u001b[0m\u001b[0;34m\u001b[0m\u001b[0m\n\u001b[1;32m    894\u001b[0m                 \u001b[0;31m# re-raise KeyboardInterrupt, to truncate traceback\u001b[0m\u001b[0;34m\u001b[0m\u001b[0;34m\u001b[0m\u001b[0m\n\u001b[0;32m--> 895\u001b[0;31m                 \u001b[0;32mraise\u001b[0m \u001b[0mKeyboardInterrupt\u001b[0m\u001b[0;34m(\u001b[0m\u001b[0;34m\"Interrupted by user\"\u001b[0m\u001b[0;34m)\u001b[0m \u001b[0;32mfrom\u001b[0m \u001b[0;32mNone\u001b[0m\u001b[0;34m\u001b[0m\u001b[0;34m\u001b[0m\u001b[0m\n\u001b[0m\u001b[1;32m    896\u001b[0m             \u001b[0;32mexcept\u001b[0m \u001b[0mException\u001b[0m \u001b[0;32mas\u001b[0m \u001b[0me\u001b[0m\u001b[0;34m:\u001b[0m\u001b[0;34m\u001b[0m\u001b[0;34m\u001b[0m\u001b[0m\n\u001b[1;32m    897\u001b[0m                 \u001b[0mself\u001b[0m\u001b[0;34m.\u001b[0m\u001b[0mlog\u001b[0m\u001b[0;34m.\u001b[0m\u001b[0mwarning\u001b[0m\u001b[0;34m(\u001b[0m\u001b[0;34m\"Invalid Message:\"\u001b[0m\u001b[0;34m,\u001b[0m \u001b[0mexc_info\u001b[0m\u001b[0;34m=\u001b[0m\u001b[0;32mTrue\u001b[0m\u001b[0;34m)\u001b[0m\u001b[0;34m\u001b[0m\u001b[0;34m\u001b[0m\u001b[0m\n",
            "\u001b[0;31mKeyboardInterrupt\u001b[0m: Interrupted by user"
          ]
        }
      ]
    },
    {
      "cell_type": "markdown",
      "source": [
        "Cree el siguiente menú:\n",
        "1) Agregar a archivo.\n",
        "2) Ver los registros.\n",
        "3) Salir del programa.\n",
        "Si el usuario selecciona 1, permítale agregar a un archivo llamado Salaries.csv que almacenará su nombre y salario. Si seleccionan 2, debería mostrar todos los registros en el archivo Salaries.csv. Si seleccionan 3, debería detener el programa. Si seleccionan una opción incorrecta, deberían ver un mensaje de error. Deberán seguir regresando al menú hasta seleccionar la opción 3. Nota: En este reto, tienes que usar while y el modulo csv."
      ],
      "metadata": {
        "id": "cG2Of913s-8Q"
      }
    },
    {
      "cell_type": "code",
      "source": [
        "def menu():\n",
        "  print(\"1) Agregar a archivo.\")\n",
        "  print(\"2) Ver los registros.\")\n",
        "  print(\"3) Salir del programa.\")\n",
        "  opcion = input(\"Seleccione una opción: \")\n",
        "  return opcion\n",
        "def agregar_a_archivo():\n",
        "  import csv\n",
        "  nombre = input(\"Ingrese su nombre: \")\n",
        "  salario = input(\"Ingrese su salario: \")\n",
        "  with open('Salaries.csv', 'a', newline='') as file:\n",
        "    writer = csv.writer(file)\n",
        "    writer.writerow\n",
        "    writer.writerow([nombre, salario])\n",
        "def ver_registros():\n",
        "  import csv\n",
        "  with open('Salaries.csv', 'r') as file:\n",
        "    reader = csv.reader(file)\n",
        "    for row in reader:\n",
        "      print(row)\n",
        "def salir():\n",
        "  print(\"Saliendo del programa...\")\n",
        "  exit()\n",
        "while True:\n",
        "  opcion = menu()\n",
        "  if opcion == \"1\":\n",
        "    agregar_a_archivo()\n",
        "  elif opcion == \"2\":\n",
        "    ver_registros()\n",
        "  elif opcion == \"3\":\n",
        "    salir()\n",
        "    break\n",
        "  else:\n",
        "    print(\"Opción no válida. Por favor, seleccione una opción válida.\")\n",
        "if __name__ == \"__menu__\":\n",
        "    menu()\n"
      ],
      "metadata": {
        "id": "3TxdR7Vps_71",
        "colab": {
          "base_uri": "https://localhost:8080/"
        },
        "outputId": "773cce16-41cd-47a5-e8f7-0c95e6cb3a42"
      },
      "execution_count": null,
      "outputs": [
        {
          "output_type": "stream",
          "name": "stdout",
          "text": [
            "1) Agregar a archivo.\n",
            "2) Ver los registros.\n",
            "3) Salir del programa.\n",
            "Seleccione una opción: 1\n",
            "Ingrese su nombre: lalo\n",
            "Ingrese su salario: 12000\n",
            "1) Agregar a archivo.\n",
            "2) Ver los registros.\n",
            "3) Salir del programa.\n",
            "Seleccione una opción: 2\n",
            "['lalo', '12000']\n",
            "1) Agregar a archivo.\n",
            "2) Ver los registros.\n",
            "3) Salir del programa.\n",
            "Seleccione una opción: 3\n",
            "Saliendo del programa...\n"
          ]
        }
      ]
    },
    {
      "cell_type": "markdown",
      "source": [
        "Retos:\n",
        "\n",
        "1. Crear una clase Persona: Define una clase llamada `Person` que tenga atributos como `name`, `age`, y `city`. Luego, crea objetos de esta clase para representar diferentes personas y accede a sus atributos. Y crea ejemplos donde se solicite la información de una persona creada.\n",
        "2. Crear una clase Rectangulo: Define una clase llamada `Rectangle` que tenga atributos `height` y `width`. Luego, agrega métodos para calcular el área y el perímetro del rectángulo. Luego crea un ejemplo, donde se crea un rectangulo y se obtiene tanto la informaicón de su área, como de su périmetro.\n",
        "3. Crear una clase Estudiante: Define una clase llamada `Student` que herede de la clase Persona (`Person`) (del ejercicio 1). Agrega atributos adicionales como grado y promedio academico. Luego, crea objetos de esta clase para representar diferentes estudiantes y accede tanto a los atributos heredados como a los propios."
      ],
      "metadata": {
        "id": "ahmSA12Z7J-Q"
      }
    },
    {
      "cell_type": "markdown",
      "source": [
        "Crear una clase Persona: Define una clase llamada Person que tenga atributos como name, age, y city. Luego, crea objetos de esta clase para representar diferentes personas y accede a sus atributos. Y crea ejemplos donde se solicite la información de una persona creada."
      ],
      "metadata": {
        "id": "MtMMHzMVm68x"
      }
    },
    {
      "cell_type": "code",
      "source": [
        "\n",
        "class Persona:\n",
        "    def __init__(self, nombre, edad, ciudad):\n",
        "        self.nombre = nombre\n",
        "        self.edad = edad\n",
        "        self.ciudad = ciudad\n",
        "\n",
        "\n",
        "Mendoza = Persona(\"Mendoza\", 87, \"León\")\n",
        "Juan = Persona(\"Juan\", 25, \"Silao\")\n",
        "Ana = Persona(\"Ana\", 30, \"Irapuato\")\n",
        "a = input(\"Ingrese Mendoza, Juan o Ana: \")\n",
        "while True:\n",
        "  if a==Mendoza.nombre:\n",
        "    print(\"Mendoza vive en \",Mendoza.ciudad)\n",
        "    print(\"Y tiene \",Mendoza.edad,\" años\")\n",
        "    break\n",
        "  elif a==Juan.nombre:\n",
        "    print(\"Juan vive en \",Juan.ciudad)\n",
        "    print(\"Y tiene \",Juan.edad,\" años\")\n",
        "    break\n",
        "  elif a==Ana.nombre:\n",
        "    print(\"Ana vive en \",Ana.ciudad)\n",
        "    print(\"Y tiene \",Ana.edad,\" años\")\n",
        "    break\n",
        "  else:\n",
        "    print(\"No lo tengo registrado\")\n",
        "    a=input(\"Ingresa Mendoza, Juan o Ana\")"
      ],
      "metadata": {
        "id": "x5BxrXuGm6Il",
        "colab": {
          "base_uri": "https://localhost:8080/"
        },
        "outputId": "44001418-8011-4f9a-fa84-fda938dc9069"
      },
      "execution_count": null,
      "outputs": [
        {
          "output_type": "stream",
          "name": "stdout",
          "text": [
            "Ingrese Mendoza, Juan o Ana: Ana\n",
            "Ana vive en  Irapuato\n",
            "Y tiene  30  años\n"
          ]
        }
      ]
    },
    {
      "cell_type": "markdown",
      "source": [
        "Crear una clase Rectangulo: Define una clase llamada Rectangle que tenga atributos height y width. Luego, agrega métodos para calcular el área y el perímetro del rectángulo. Luego crea un ejemplo, donde se crea un rectangulo y se obtiene tanto la informaicón de su área, como de su périmetro."
      ],
      "metadata": {
        "id": "_4WdQ1s0A4Tc"
      }
    },
    {
      "cell_type": "code",
      "source": [
        "class Rectangulo:\n",
        "  def __init__(self, altura, ancho):\n",
        "    self.altura = altura\n",
        "    self.ancho = ancho\n",
        "\n",
        "  def area(self):\n",
        "    return self.altura * self.ancho\n",
        "\n",
        "  def perimetro(self):\n",
        "      return (2 * self.altura) + (2 * self.ancho)\n",
        "a = Rectangulo(5, 8)\n",
        "print(\"El área del rectángulo es: \", a.area())\n",
        "print(\"El perímetro del rectángulo es: \", a.perimetro())"
      ],
      "metadata": {
        "colab": {
          "base_uri": "https://localhost:8080/"
        },
        "id": "enRuVYzrA-aa",
        "outputId": "338ed1eb-bf45-4954-d073-f4f9ede2c0c9"
      },
      "execution_count": null,
      "outputs": [
        {
          "output_type": "stream",
          "name": "stdout",
          "text": [
            "El área del rectángulo es:  40\n",
            "El perímetro del rectángulo es:  26\n"
          ]
        }
      ]
    },
    {
      "cell_type": "markdown",
      "source": [
        "Crear una clase Estudiante: Define una clase llamada Student que herede de la clase Persona (Person) (del ejercicio 1). Agrega atributos adicionales como grado y promedio academico. Luego, crea objetos de esta clase para representar diferentes estudiantes y accede tanto a los atributos heredados como a los propios."
      ],
      "metadata": {
        "id": "lWnZpZZIHZQh"
      }
    },
    {
      "cell_type": "code",
      "source": [
        "class Estudiante(Persona):\n",
        "  def __init__(self, nombre, edad, ciudad, grado, promedio):\n",
        "    super().__init__(nombre, edad, ciudad)\n",
        "    self.grado = grado\n",
        "    self.promedio = promedio\n",
        "Mendoza = Estudiante(Mendoza.nombre, Mendoza.edad, Mendoza.ciudad, \"quinto\", 8)\n",
        "Juan = Estudiante(Juan.nombre,Juan.edad, Juan.ciudad, \"tercero\", 6)\n",
        "Ana = Estudiante(Ana.nombre, Ana.edad, Ana.ciudad, \"cuarto\", 10)\n",
        "a = input(\"Ingrese Mendoza, Juan o Ana: \")\n",
        "while True:\n",
        "  if a==Mendoza.nombre:\n",
        "    print(\"Mendoza vive en \",Mendoza.ciudad)\n",
        "    print(\"Y tiene \",Mendoza.edad,\" años\")\n",
        "    print(\"Y estudia en \",Mendoza.grado)\n",
        "    print(\"Y tiene un promedio de \",Mendoza.promedio)\n",
        "    break\n",
        "  elif a==Juan.nombre:\n",
        "    print(\"Juan vive en \",Juan.ciudad)\n",
        "    print(\"Y tiene \",Juan.edad,\" años\")\n",
        "    print(\"Y estudia en \",Juan.grado)\n",
        "    print(\"Y tiene un promedio de \",Juan.promedio)\n",
        "    break\n",
        "  elif a==Ana.nombre:\n",
        "    print(\"Ana vive en \",Ana.ciudad)\n",
        "    print(\"Y tiene \",Ana.edad,\" años\")\n",
        "    print(\"Y estudia en \",Ana.grado)\n",
        "    print(\"Y tiene un promedio de \",Ana.promedio)\n",
        "    break\n",
        "  else:\n",
        "    print(\"No lo tengo registrado\")\n",
        "    a=input(\"Ingresa Mendoza, Juan o Ana\")\n"
      ],
      "metadata": {
        "colab": {
          "base_uri": "https://localhost:8080/"
        },
        "id": "aOHnh8dlHaV8",
        "outputId": "0ceca277-5d96-4e23-877d-ec1eedb84d0d"
      },
      "execution_count": null,
      "outputs": [
        {
          "output_type": "stream",
          "name": "stdout",
          "text": [
            "Ingrese Mendoza, Juan o Ana: Ana\n",
            "Ana vive en  Irapuato\n",
            "Y tiene  30  años\n",
            "Y estudia en  cuarto\n",
            "Y tiene un promedio de  10\n"
          ]
        }
      ]
    },
    {
      "cell_type": "markdown",
      "source": [
        "Retos:\n",
        "\n",
        "1. **Crear una Serie de precios de productos:**\n",
        "   Crea una Serie que represente los precios de diferentes productos en una tienda. Utiliza nombres de productos como índices y asigna precios aleatorios. Luego, filtra la Serie para mostrar solo los productos con un precio mayor a cierto valor específico.\n",
        "\n",
        "2. **Crear una Serie de calificaciones de estudiantes:**\n",
        "   Crea una Serie que represente las calificaciones de diferentes estudiantes en un examen. Utiliza los nombres de los estudiantes como índices y asigna calificaciones aleatorias entre 0 y 100. Luego, calcula el promedio de las calificaciones y muestra las calificaciones de los estudiantes que superaron este promedio.\n",
        "\n",
        "3. **Crear una Serie de temperaturas diarias:**\n",
        "   Crea una Serie que represente las temperaturas diarias registradas en una ciudad durante una semana. Utiliza los nombres de los días de la semana como índices y asigna temperaturas aleatorias. Luego, calcula la temperatura promedio de la semana y muestra los días donde la temperatura superó este promedio."
      ],
      "metadata": {
        "id": "uYooq1ci7VzI"
      }
    },
    {
      "cell_type": "markdown",
      "source": [
        "Crear una Serie de precios de productos: Crea una Serie que represente los precios de diferentes productos en una tienda. Utiliza nombres de productos como índices y asigna precios aleatorios. Luego, filtra la Serie para mostrar solo los productos con un precio mayor a cierto valor específico."
      ],
      "metadata": {
        "id": "yx3d4OsFQ293"
      }
    },
    {
      "cell_type": "code",
      "source": [
        "import pandas as pd\n",
        "import numpy as np\n",
        "\n",
        "Productos = ['Pera','Zanahoria','Queso','Carne','Huevo','Limón', 'Sandía', 'Llanta de tractor']\n",
        "Precios = np.random.uniform(10,100,len(Productos))\n",
        "Serie_Precios = pd.Series(Precios, index=Productos)\n",
        "print(Serie_Precios.round(2))\n",
        "\n",
        "canasta_basica=70\n",
        "print(Serie_Precios[Serie_Precios > canasta_basica].round(2))"
      ],
      "metadata": {
        "colab": {
          "base_uri": "https://localhost:8080/"
        },
        "id": "0xnUASlkP9Vl",
        "outputId": "ca5d409a-f256-405f-e121-b7f9b157f5fe"
      },
      "execution_count": null,
      "outputs": [
        {
          "output_type": "stream",
          "name": "stdout",
          "text": [
            "Pera                 20.77\n",
            "Zanahoria            12.84\n",
            "Queso                54.65\n",
            "Carne                40.53\n",
            "Huevo                83.59\n",
            "Limón                40.02\n",
            "Sandía               97.49\n",
            "Llanta de tractor    31.75\n",
            "dtype: float64\n",
            "Huevo     83.59\n",
            "Sandía    97.49\n",
            "dtype: float64\n"
          ]
        }
      ]
    },
    {
      "cell_type": "markdown",
      "source": [
        "Crear una Serie de calificaciones de estudiantes: Crea una Serie que represente las calificaciones de diferentes estudiantes en un examen. Utiliza los nombres de los estudiantes como índices y asigna calificaciones aleatorias entre 0 y 100. Luego, calcula el promedio de las calificaciones y muestra las calificaciones de los estudiantes que superaron este promedio."
      ],
      "metadata": {
        "id": "UNp7fQtmTtiM"
      }
    },
    {
      "cell_type": "code",
      "source": [
        "Estudiantes = ['Tony', 'Fabio', 'Alez', 'Ana', 'Joanna', 'Sandra', 'Luce', 'Carlos', 'Juan']\n",
        "calificaciones = np.random.randint(0,100,len(Estudiantes))\n",
        "serie_calificaciones = pd.Series(calificaciones, index=Estudiantes)\n",
        "print(serie_calificaciones)\n",
        "promedio = serie_calificaciones.mean()\n",
        "print(promedio.round(2))\n",
        "print(serie_calificaciones[serie_calificaciones > promedio])"
      ],
      "metadata": {
        "colab": {
          "base_uri": "https://localhost:8080/"
        },
        "id": "2qdCiZubT3ws",
        "outputId": "377840f5-1945-4660-f305-b6f81c7ff013"
      },
      "execution_count": null,
      "outputs": [
        {
          "output_type": "stream",
          "name": "stdout",
          "text": [
            "Tony      30\n",
            "Fabio      2\n",
            "Alez      61\n",
            "Ana       80\n",
            "Joanna    85\n",
            "Sandra    12\n",
            "Luce      98\n",
            "Carlos    95\n",
            "Juan      69\n",
            "dtype: int64\n",
            "59.11\n",
            "Alez      61\n",
            "Ana       80\n",
            "Joanna    85\n",
            "Luce      98\n",
            "Carlos    95\n",
            "Juan      69\n",
            "dtype: int64\n"
          ]
        }
      ]
    },
    {
      "cell_type": "markdown",
      "source": [
        "Crear una Serie de temperaturas diarias: Crea una Serie que represente las temperaturas diarias registradas en una ciudad durante una semana. Utiliza los nombres de los días de la semana como índices y asigna temperaturas aleatorias. Luego, calcula la temperatura promedio de la semana y muestra los días donde la temperatura superó este promedio."
      ],
      "metadata": {
        "id": "znTADL_OXP20"
      }
    },
    {
      "cell_type": "code",
      "source": [
        "dias = ['Lunes', 'Martes', 'Miercoles', 'Jueves', 'Viernes', 'Sabado', 'Domingo']\n",
        "temperaturas = np.random.randint(10,40,len(dias))\n",
        "serie_temperaturas = pd.Series(temperaturas, index=dias)\n",
        "print(serie_temperaturas)\n",
        "promedio = serie_temperaturas.mean()\n",
        "print(promedio.round(2))\n",
        "print(serie_temperaturas[serie_temperaturas > promedio])"
      ],
      "metadata": {
        "colab": {
          "base_uri": "https://localhost:8080/"
        },
        "id": "C8BMCY48XRCH",
        "outputId": "8f118515-fc76-4cb6-b28e-068e5d84aef9"
      },
      "execution_count": null,
      "outputs": [
        {
          "output_type": "stream",
          "name": "stdout",
          "text": [
            "Lunes        17\n",
            "Martes       34\n",
            "Miercoles    20\n",
            "Jueves       19\n",
            "Viernes      12\n",
            "Sabado       23\n",
            "Domingo      36\n",
            "dtype: int64\n",
            "23.0\n",
            "Martes     34\n",
            "Domingo    36\n",
            "dtype: int64\n"
          ]
        }
      ]
    },
    {
      "cell_type": "markdown",
      "source": [
        "Retos:\n",
        "1. **Explicación de expresión regular:**\n",
        "   - Explica con tus palabras que está haciendo la siguiente expresión regular: `[\\w\\.-]+@[\\w\\.-]+`.\n",
        "2. **Validar y retorn la direcciones de correo electrónico**:\n",
        "   - Cadena de texto: \"Ejemplo de dirección de correo electrónico: usuario@example.com\"\n",
        "\n",
        "3. **Extracción de números de teléfono**:\n",
        "   - Cadena de texto: \"Teléfono de contacto: 123-456-7890, Teléfono móvil: (987) 654-3210\"\n",
        "\n",
        "4. **Búsqueda de palabras clave en un texto**:\n",
        "   - Cadena de texto: \"Este es un ejemplo de texto donde queremos buscar la palabra clave 'ejemplo'.\""
      ],
      "metadata": {
        "id": "qpgKeNQ07n13"
      }
    },
    {
      "cell_type": "code",
      "source": [
        "texto = \"Ejemplo de dirección de correo electrónico: eduardo.lopez@e.com\"\n",
        "import re\n",
        "patron = r'[A-Za-z0-9._%+-]+@[A-Za-z0-9.-]+\\.[A-Z|a-z]{2,}'\n",
        "coincidencias = re.search(patron, texto)\n",
        "print(coincidencias)"
      ],
      "metadata": {
        "colab": {
          "base_uri": "https://localhost:8080/"
        },
        "id": "AGfeE3yUZmkg",
        "outputId": "ee67ba1e-35db-492f-faaf-a47f7ebe5c3d"
      },
      "execution_count": null,
      "outputs": [
        {
          "output_type": "stream",
          "name": "stdout",
          "text": [
            "<re.Match object; span=(44, 63), match='eduardo.lopez@e.com'>\n"
          ]
        }
      ]
    },
    {
      "cell_type": "code",
      "source": [
        "texto = \"Teléfono de contacto: 123-456-7890, Teléfono móvil: (987) 654-3210\"\n",
        "import re\n",
        "patron = r'\\(?\\d{3}\\)?[-.\\s]?\\d{3}[-.\\s]?\\d{4}'\n",
        "coincidencias = re.findall(patron, texto)\n",
        "print(coincidencias)"
      ],
      "metadata": {
        "colab": {
          "base_uri": "https://localhost:8080/"
        },
        "id": "0uJz2tWacw1d",
        "outputId": "67330698-f6d7-4897-879d-fcad2abd5493"
      },
      "execution_count": null,
      "outputs": [
        {
          "output_type": "stream",
          "name": "stdout",
          "text": [
            "['123-456-7890', '(987) 654-3210']\n"
          ]
        }
      ]
    },
    {
      "cell_type": "markdown",
      "source": [],
      "metadata": {
        "id": "1TPDw-GGgFwX"
      }
    },
    {
      "cell_type": "code",
      "source": [
        "\n",
        "texto = \"Este es un ejemplo de texto donde queremos buscar la palabra clave 'ejemplo'.\"\n",
        "\n",
        "palabra = 'ejemplo'\n",
        "\n",
        "patron = rf'\\b{palabra}\\b'\n",
        "\n",
        "coincidencias = re.findall(patron, texto, re.IGNORECASE)\n",
        "\n",
        "\n",
        "print(f\"Número de veces que se encontró la palabra '{palabra}':\", len(coincidencias))"
      ],
      "metadata": {
        "colab": {
          "base_uri": "https://localhost:8080/"
        },
        "id": "7pCkf8w3gIAR",
        "outputId": "2a96b4fa-942d-48c3-e40f-0ce54e08aa7d"
      },
      "execution_count": null,
      "outputs": [
        {
          "output_type": "stream",
          "name": "stdout",
          "text": [
            "Número de veces que se encontró la palabra 'ejemplo': 2\n"
          ]
        }
      ]
    },
    {
      "cell_type": "markdown",
      "source": [
        "Reto:\n",
        "\n",
        "* Realizar WebScraping, se permite replicar el proyecto de algún tutorial que se encuentre en lina. En caso de replicar un proyecto, se tiene que describir linea a linea que está haciendo."
      ],
      "metadata": {
        "id": "GTp-EmkI7tKX"
      }
    },
    {
      "cell_type": "code",
      "source": [
        "\n",
        "!pip install requests beautifulsoup4\n",
        "import requests\n",
        "from bs4 import BeautifulSoup\n",
        "\n",
        "url= 'https://codigoespagueti.com/noticias/cultura/dragon-ball-30-anos/'\n",
        "response = requests.get(url)\n",
        "soup = BeautifulSoup(response.content, 'html.parser')\n",
        "\n",
        "palabra = 'GOKU'\n",
        "\n",
        "patron = rf'\\b{palabra}\\b'\n",
        "texto = soup.get_text()\n",
        "\n",
        "coincidencias = re.findall(patron, texto, re.IGNORECASE)\n",
        "\n",
        "\n",
        "print(f\"Número de veces que se encontró la palabra '{palabra}':\", len(coincidencias))"
      ],
      "metadata": {
        "colab": {
          "base_uri": "https://localhost:8080/"
        },
        "id": "xRbpa497iQO-",
        "outputId": "cc1251fb-838a-4720-b55e-80f58b026942"
      },
      "execution_count": null,
      "outputs": [
        {
          "output_type": "stream",
          "name": "stdout",
          "text": [
            "Requirement already satisfied: requests in /usr/local/lib/python3.10/dist-packages (2.32.3)\n",
            "Requirement already satisfied: beautifulsoup4 in /usr/local/lib/python3.10/dist-packages (4.12.3)\n",
            "Requirement already satisfied: charset-normalizer<4,>=2 in /usr/local/lib/python3.10/dist-packages (from requests) (3.3.2)\n",
            "Requirement already satisfied: idna<4,>=2.5 in /usr/local/lib/python3.10/dist-packages (from requests) (3.10)\n",
            "Requirement already satisfied: urllib3<3,>=1.21.1 in /usr/local/lib/python3.10/dist-packages (from requests) (2.2.3)\n",
            "Requirement already satisfied: certifi>=2017.4.17 in /usr/local/lib/python3.10/dist-packages (from requests) (2024.8.30)\n",
            "Requirement already satisfied: soupsieve>1.2 in /usr/local/lib/python3.10/dist-packages (from beautifulsoup4) (2.6)\n",
            "Número de veces que se encontró la palabra 'GOKU': 7\n"
          ]
        }
      ]
    },
    {
      "cell_type": "code",
      "source": [
        "!pip install requests beautifulsoup4\n",
        "import requests\n",
        "from bs4 import BeautifulSoup\n",
        "\n",
        "url= 'https://pornhub.com'\n",
        "response = requests.get(url)\n",
        "soup = BeautifulSoup(response.content, 'html.parser')\n",
        "\n",
        "palabra = 'milf'\n",
        "\n",
        "patron = rf'\\b{palabra}\\b'\n",
        "texto = soup.get_text()\n",
        "\n",
        "coincidencias = re.findall(patron, texto, re.IGNORECASE)\n",
        "\n",
        "\n",
        "print(f\"Número de veces que se encontró la palabra '{palabra}':\", len(coincidencias))"
      ],
      "metadata": {
        "colab": {
          "base_uri": "https://localhost:8080/"
        },
        "id": "eai3ZoHfpxum",
        "outputId": "e5d37dfc-7f32-45fa-f06e-55b9cb4b1230"
      },
      "execution_count": null,
      "outputs": [
        {
          "output_type": "stream",
          "name": "stdout",
          "text": [
            "Requirement already satisfied: requests in /usr/local/lib/python3.10/dist-packages (2.32.3)\n",
            "Requirement already satisfied: beautifulsoup4 in /usr/local/lib/python3.10/dist-packages (4.12.3)\n",
            "Requirement already satisfied: charset-normalizer<4,>=2 in /usr/local/lib/python3.10/dist-packages (from requests) (3.3.2)\n",
            "Requirement already satisfied: idna<4,>=2.5 in /usr/local/lib/python3.10/dist-packages (from requests) (3.10)\n",
            "Requirement already satisfied: urllib3<3,>=1.21.1 in /usr/local/lib/python3.10/dist-packages (from requests) (2.2.3)\n",
            "Requirement already satisfied: certifi>=2017.4.17 in /usr/local/lib/python3.10/dist-packages (from requests) (2024.8.30)\n",
            "Requirement already satisfied: soupsieve>1.2 in /usr/local/lib/python3.10/dist-packages (from beautifulsoup4) (2.6)\n",
            "Número de veces que se encontró la palabra 'milf': 7\n"
          ]
        }
      ]
    }
  ]
}